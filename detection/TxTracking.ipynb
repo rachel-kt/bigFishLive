{
 "cells": [
  {
   "cell_type": "markdown",
   "id": "707c6e40",
   "metadata": {},
   "source": [
    "# Load bigfish detection results\n"
   ]
  },
  {
   "cell_type": "code",
   "execution_count": 1,
   "id": "96ffd294",
   "metadata": {},
   "outputs": [],
   "source": [
    "from dask.array.image import imread as imr\n",
    "import os\n",
    "import napari\n",
    "import numpy as np\n",
    "import pandas as pd\n",
    "import trackpy as tp\n",
    "import matplotlib.pyplot as plt\n",
    "import bigfish\n",
    "import bigfish.stack as stack\n",
    "import bigfish.detection as detection\n",
    "import bigfish.multistack as multistack\n",
    "import bigfish.plot as plot\n",
    "from runBigfishDetection import saveSpotsNPZ, reorderZstack\n",
    "from bigfish.detection.utils import get_object_radius_pixel\n",
    "from buildReferenceSpot import buildReferenceSpotFromImages\n",
    "from copy import deepcopy\n",
    "pd.set_option('display.max_rows', 1500)\n",
    "from runBigfishDetection import getSpotAndClusters, saveSpotsNPZ"
   ]
  },
  {
   "cell_type": "code",
   "execution_count": 2,
   "id": "61799f43",
   "metadata": {},
   "outputs": [
    {
     "data": {
      "text/plain": [
       "'/media/rachel/9d56c1ff-e031-4e35-9f3c-fcd7d3e80033/Analysis/20230720/Hela_h9_h2_k11_mcpsg_1hrbasal_14hr_10ng.ml_tnf_exp1_4_F11/cell_1/'"
      ]
     },
     "execution_count": 2,
     "metadata": {},
     "output_type": "execute_result"
    }
   ],
   "source": [
    "homeFolder = '/media/rachel/9d56c1ff-e031-4e35-9f3c-fcd7d3e80033/Analysis/20230720/'\n",
    "nameKey = 'Hela_h9_h2_k11_mcpsg_1hrbasal_14hr_10ng.ml_tnf_exp1_4_F'\n",
    "# homeFolder = '/home/rachel/single/spinningSequence/'\n",
    "# nameKey = 'hela_K11_ON-_F'\n",
    "imsQ = '11'\n",
    "pathToTimeFrames = homeFolder+nameKey+imsQ+'/*.tif'\n",
    "cellNumber = '1'\n",
    "path_input = homeFolder+nameKey+imsQ+'/cell_'+str(cellNumber)+'/'\n",
    "nucleiStackForm = nameKey+imsQ+\"_cell_\"\n",
    "pathToTimeFramesCell = homeFolder+nameKey+imsQ+'/cell_'+str(cellNumber)+'/*.tif'\n",
    "stackCell = imr(pathToTimeFramesCell)\n",
    "MaxTimePoint = stackCell.shape[0]\n",
    "path_input"
   ]
  },
  {
   "cell_type": "code",
   "execution_count": 3,
   "id": "daade45c",
   "metadata": {},
   "outputs": [
    {
     "name": "stdout",
     "output_type": "stream",
     "text": [
      "(900, 13, 189, 189)\n"
     ]
    }
   ],
   "source": [
    "stackCell = imr(pathToTimeFramesCell)\n",
    "print(stackCell.shape)\n",
    "maxImageCell = np.max(stackCell, axis=1)"
   ]
  },
  {
   "cell_type": "code",
   "execution_count": 4,
   "id": "3aba3225",
   "metadata": {},
   "outputs": [],
   "source": [
    "pathTocellCrops = homeFolder+nameKey+imsQ+'/cell_'+str(cellNumber)+'/'\n",
    "moviePath = homeFolder+nameKey+imsQ"
   ]
  },
  {
   "cell_type": "code",
   "execution_count": 5,
   "id": "55c58c64",
   "metadata": {},
   "outputs": [],
   "source": [
    "cellNumber = 1\n",
    "spcl = np.load(pathTocellCrops+str(cellNumber)+'_spots_and_clusters.npz',allow_pickle=True)\n",
    "\n",
    "spotsFrame = spcl['spotsFrame']\n",
    "clustersFrames = spcl['clustersFrames']\n",
    "ThresholdFrames = spcl['ThresholdFrames']\n",
    "reference_spot = spcl['reference_spot']\n",
    "refSpot = deepcopy(reference_spot)"
   ]
  },
  {
   "cell_type": "code",
   "execution_count": 6,
   "id": "cf53bf6c",
   "metadata": {},
   "outputs": [],
   "source": [
    "def getTranscrtiptionSites(particle_1, MaxTimePoint, spotsFrame, clustersFrames, clusterID):\n",
    "    potentialTxs = pd.DataFrame(np.zeros([MaxTimePoint, 1+3+1]), columns=['frame', 'z', 'y', 'x', 'mrna'])\n",
    "    potentialTxs['frame']= np.arange(0,MaxTimePoint,1)\n",
    "    \n",
    "\n",
    "    for frameNumber in range(MaxTimePoint):\n",
    "        t = particle_1.frame.values[np.argmin(abs(particle_1.frame.values-frameNumber))]\n",
    "        particleCoordinates = np.asarray(particle_1[particle_1['frame']==t])[0][:2]\n",
    "        coordinatesFound = spotsFrame[frameNumber][np.sum((spotsFrame[frameNumber][:,1:]-particleCoordinates)**2, axis=1)<=25,:]\n",
    "        if coordinatesFound.size!=0:   \n",
    "            if len(coordinatesFound) > 1:\n",
    "                brightest = []\n",
    "                for kk in range(len(coordinatesFound)):\n",
    "                    brightest.append(np.array(maxImageCell[frameNumber][coordinatesFound[kk,1],coordinatesFound[kk,2]]))\n",
    "                brightest = np.argmax(brightest)\n",
    "                coordinatesFound = coordinatesFound[brightest].reshape((1,3))\n",
    "\n",
    "            if len(coordinatesFound) ==1:\n",
    "                potentialTxs.iloc[frameNumber,1:4] = coordinatesFound[0]\n",
    "    # finding non empty frames\n",
    "\n",
    "    txIndexes = np.where(np.sum(potentialTxs.iloc[:,1:4], axis=1)!=0)\n",
    "    if np.size(txIndexes)!=0:\n",
    "        txIndexes = txIndexes[0]\n",
    "    \n",
    "    # adding the mrna number\n",
    "\n",
    "    for gg in txIndexes: \n",
    "        if np.sum(potentialTxs.iloc[gg,1:4])!=0:\n",
    "            potentialTxs.iloc[gg,4]=1\n",
    "        if clustersFrames[gg].size!=0:\n",
    "            ixmin = np.argmin(np.sum((clustersFrames[gg][:,1:3] - np.array(potentialTxs.iloc[gg,2:4]))**2,axis=1))\n",
    "            potentialTxs.iloc[gg,4]=clustersFrames[gg][ixmin,3]\n",
    "    \n",
    "    potentialTxs['cluster_id']=clusterID\n",
    "    return potentialTxs"
   ]
  },
  {
   "cell_type": "code",
   "execution_count": 7,
   "id": "42ef59a4",
   "metadata": {},
   "outputs": [],
   "source": [
    "particle_1 = pd.read_pickle(moviePath+'/cellNumber_'+str(cellNumber)+'_particle_1.pkl') \n",
    "particle_1.index = np.arange(0,len(particle_1))\n",
    "particle_1.track_length = len(particle_1)\n",
    "\n",
    "txs1 = getTranscrtiptionSites(particle_1, MaxTimePoint, spotsFrame, clustersFrames, 0)"
   ]
  },
  {
   "cell_type": "code",
   "execution_count": 8,
   "id": "6fa6e1df",
   "metadata": {},
   "outputs": [],
   "source": [
    "particle_2 = pd.read_pickle(moviePath+'/cellNumber_'+str(cellNumber)+'_particle_2.pkl') \n",
    "particle_2.index = np.arange(0,len(particle_2))\n",
    "particle_2.track_length = len(particle_2)\n",
    "\n",
    "txs2 = getTranscrtiptionSites(particle_2, MaxTimePoint, spotsFrame, clustersFrames, 1)"
   ]
  },
  {
   "cell_type": "code",
   "execution_count": 9,
   "id": "0af042f1",
   "metadata": {},
   "outputs": [],
   "source": [
    "newClusterFrame = []\n",
    "for hh in range(len(txs1)):\n",
    "    if np.sum(txs1.iloc[hh,1:-1])==0:\n",
    "        newClusterFrame.append(np.array([], dtype=np.int64).reshape((0,5)))\n",
    "    else:\n",
    "        newClusterFrame.append(np.array(txs1.iloc[hh,1:]).reshape((1,5)).astype(np.int64))\n",
    "        \n",
    "for hh in range(len(txs2)):\n",
    "    if np.sum(txs2.iloc[hh,1:-1])==0:\n",
    "        newClusterFrame[hh] = np.vstack([newClusterFrame[hh],np.array([], dtype=np.int64).reshape((0,5))])\n",
    "    else:\n",
    "        newClusterFrame[hh] = np.vstack([newClusterFrame[hh], np.array(txs2.iloc[hh,1:]).reshape((1,5)).astype(np.int64)])\n"
   ]
  },
  {
   "cell_type": "code",
   "execution_count": 10,
   "id": "f8b96685",
   "metadata": {},
   "outputs": [
    {
     "data": {
      "text/plain": [
       "'/media/rachel/9d56c1ff-e031-4e35-9f3c-fcd7d3e80033/Analysis/20230720/Hela_h9_h2_k11_mcpsg_1hrbasal_14hr_10ng.ml_tnf_exp1_4_F11'"
      ]
     },
     "execution_count": 10,
     "metadata": {},
     "output_type": "execute_result"
    }
   ],
   "source": [
    "moviePath"
   ]
  },
  {
   "cell_type": "code",
   "execution_count": 69,
   "id": "8c8810b0",
   "metadata": {},
   "outputs": [],
   "source": [
    "txs1.to_csv(moviePath+'/cellNumber_'+str(cellNumber)+'_particle_1_tracks.csv')\n",
    "txs2.to_csv(moviePath+'/cellNumber_'+str(cellNumber)+'_particle_2_tracks.csv')"
   ]
  },
  {
   "cell_type": "code",
   "execution_count": 12,
   "id": "aa268110",
   "metadata": {},
   "outputs": [
    {
     "name": "stderr",
     "output_type": "stream",
     "text": [
      "/home/rachel/anaconda3/envs/napari_env/lib/python3.9/site-packages/numpy/lib/npyio.py:696: VisibleDeprecationWarning: Creating an ndarray from ragged nested sequences (which is a list-or-tuple of lists-or-tuples-or ndarrays with different lengths or shapes) is deprecated. If you meant to do this, you must specify 'dtype=object' when creating the ndarray.\n",
      "  val = np.asanyarray(val)\n"
     ]
    }
   ],
   "source": [
    "trackData = np.savez(moviePath+'/cellNumber_'+str(cellNumber)+'trackData',\n",
    "                    tx1 = txs1,\n",
    "                    tx2 = txs2,\n",
    "                    newClusterFrame = newClusterFrame,\n",
    "                    allow_pickle=True)"
   ]
  },
  {
   "cell_type": "code",
   "execution_count": 65,
   "id": "8f3e3177",
   "metadata": {},
   "outputs": [
    {
     "data": {
      "text/plain": [
       "<function __main__.<lambda>(event)>"
      ]
     },
     "execution_count": 65,
     "metadata": {},
     "output_type": "execute_result"
    }
   ],
   "source": [
    "def getDetectedPointsForFrame(pts_coordinates, frameNumer):\n",
    "    sd = np.shape(pts_coordinates[frameNumer][:])\n",
    "    pts_coords = np.empty([sd[0],sd[1]-1])\n",
    "    for ii in range(np.shape(pts_coordinates[frameNumer][:])[0]):\n",
    "        pts_coords[ii,:] = pts_coordinates[frameNumer][ii][1:]\n",
    "    return pts_coords\n",
    "\n",
    "def getDetectedClustersForFrame(pts_coordinates, frameNumer):\n",
    "    sd = np.shape(pts_coordinates[frameNumer][:])\n",
    "    pts_coords = np.empty([sd[0],sd[1]-3])\n",
    "    for ii in range(np.shape(pts_coordinates[frameNumer][:])[0]):\n",
    "        pts_coords[ii,:] = pts_coordinates[frameNumer][ii][1:3]\n",
    "    return pts_coords\n",
    "\n",
    "def set_pts_features(pts_layer, cls_layer, pts_coordinates, cluster_coordinate, step): #TxLayer\n",
    "    # step is a 4D coordinate with the current slider position for each dim\n",
    "    frameNumber = step[0]  # grab the leading (\"time\") coordinate\n",
    "    pts_layer.data = getDetectedPointsForFrame(pts_coordinates,frameNumber)\n",
    "    cls_layer.data = getDetectedClustersForFrame(cluster_coordinate,frameNumber)\n",
    "\n",
    "pts_coordinates = spotsFrame\n",
    "cluster_coordinate = newClusterFrame#clustersFrames\n",
    "viewer = napari.Viewer()\n",
    "image_layer = viewer.add_image(\n",
    "        maxImageCell, colormap='green' #maxImageCell\n",
    "        )\n",
    "if image_layer.data.ndim == 4:\n",
    "    bigfishSpots = spotsFrame\n",
    "elif image_layer.data.ndim == 3:\n",
    "    bigfishSpots = getDetectedPointsForFrame(pts_coordinates,int(np.shape(maxImageCell)[0]/2))\n",
    "    \n",
    "bigfish_Spots = viewer.add_points(\n",
    "        getDetectedPointsForFrame(pts_coordinates,int(np.shape(maxImageCell)[0]/2)),\n",
    "        face_color='#00000000',\n",
    "        size=4,\n",
    "        edge_width=0.3,\n",
    "        edge_width_is_relative=False,\n",
    "        edge_color='white',\n",
    "        face_color_cycle = ['white'],\n",
    "        name = 'bigFish Detected Spots'\n",
    "        )\n",
    "\n",
    "bigfish_clusters = viewer.add_points(\n",
    "        getDetectedClustersForFrame(cluster_coordinate,int(np.shape(maxImageCell)[0]/2)),\n",
    "        face_color='#00000000',\n",
    "        size=8,\n",
    "        edge_width=0.3,\n",
    "        edge_width_is_relative=False,\n",
    "        edge_color='red',\n",
    "        face_color_cycle = ['red'],\n",
    "        symbol='diamond',\n",
    "        name = 'bigFish Clusters'\n",
    "        )\n",
    "\n",
    "# bigfish_TxSite = viewer.add_labels(Tx_label_clean, name='Tx Site',opacity=0.3)  bigfish_TxSite\n",
    "\n",
    "viewer.dims.events.current_step.connect(\n",
    "        lambda event: set_pts_features(bigfish_Spots, bigfish_clusters, pts_coordinates, cluster_coordinate, event.value)\n",
    "        )"
   ]
  },
  {
   "cell_type": "markdown",
   "id": "4244fc8c",
   "metadata": {},
   "source": [
    "# Make feature table"
   ]
  },
  {
   "cell_type": "code",
   "execution_count": 1084,
   "id": "fdb5f231",
   "metadata": {
    "scrolled": true
   },
   "outputs": [],
   "source": [
    "# lasthh=particle_1.frame[0]\n",
    "# nextidx=0\n",
    "# flag=0\n",
    "# t=particle_1.frame[0]\n",
    "# while (nextidx+1<particle_1.track_length[0] or lasthh<MaxTimePoint):\n",
    "    \n",
    "#     if np.asarray(particle_1[particle_1['frame']==lasthh]).size == 0:\n",
    "#         while t<lasthh and nextidx+1<particle_1.track_length[0]:\n",
    "#             nextidx = particle_1[particle_1['frame']==t].index[0]+1\n",
    "#             if particle_1['frame'][nextidx]<= t+8:\n",
    "#                 t=particle_1['frame'][nextidx]\n",
    "#                 print('frame not found, searching in next frame :',t)\n",
    "#             else:\n",
    "#                 flag+=1       \n",
    "#             if flag>1:\n",
    "#                 nextidx = particle_1[particle_1['frame']==t].index[0]+1\n",
    "#                 t=particle_1['frame'][nextidx]\n",
    "#                 flag=0\n",
    "#                 print('frame not found, searching in last frame closest to added frame :',t)\n",
    "#     else:\n",
    "#         if t!=lasthh:\n",
    "#             t=lasthh\n",
    "#             print('frame found, searching in frame :',t)\n",
    "#         else:\n",
    "#             nextidx = particle_1[particle_1['frame']==t].index[0]+1\n",
    "#             lasthh = particle_1.frame[nextidx]\n",
    "#             t = particle_1.frame[nextidx]\n",
    "#             print('frame found, searching in frame :',t)\n",
    "#             particleCoordinates = np.asarray(particle_1[particle_1['frame']==t])[0][:2]\n",
    "\n",
    "#     addedPoints=0\n",
    "#     for gg in range(9): \n",
    "#         hh = t+gg\n",
    "#         if hh in particle_1.frame.values:\n",
    "#             particleCoordinates = np.array(particle_1[particle_1['frame']==hh])[0][0:2]\n",
    "#         if hh<900:\n",
    "# #             print(hh, 'particleCoordinates = ',particleCoordinates)\n",
    "#             coordinatesFound = spotsFrame[hh][np.sum((spotsFrame[hh][:,1:]-particleCoordinates)**2, axis=1)<=30,:]\n",
    "#             if len(coordinatesFound) > 1:\n",
    "#                 brightest = []\n",
    "#                 for kk in range(len(coordinatesFound)):\n",
    "#                     brightest.append(np.array(maxImageCell[hh][coordinatesFound[kk,1],coordinatesFound[kk,2]]))\n",
    "#                 brightest = np.argmax(brightest)\n",
    "#                 coordinatesFound = coordinatesFound[brightest].reshape((1,3))\n",
    "# #                 print(hh,' ',coordinatesFound)\n",
    "#             if len(coordinatesFound) ==1:\n",
    "#                 potentialTxs.iloc[hh,1:4] = coordinatesFound[0]\n",
    "# #                 print(\"New point added at \",hh)\n",
    "#                 lasthh = hh\n",
    "#                 addedPoints+=1\n",
    "#         else:\n",
    "#             lasthh=MaxTimePoint\n",
    "#     if addedPoints==0:\n",
    "#         print('no new points were added')\n",
    "#         lasthh = t+1\n",
    "\n",
    "#     print('lasthh = ', lasthh,', nextidx = ', nextidx, ', t=', t)"
   ]
  }
 ],
 "metadata": {
  "kernelspec": {
   "display_name": "Python 3 (ipykernel)",
   "language": "python",
   "name": "python3"
  },
  "language_info": {
   "codemirror_mode": {
    "name": "ipython",
    "version": 3
   },
   "file_extension": ".py",
   "mimetype": "text/x-python",
   "name": "python",
   "nbconvert_exporter": "python",
   "pygments_lexer": "ipython3",
   "version": "3.9.16"
  }
 },
 "nbformat": 4,
 "nbformat_minor": 5
}
