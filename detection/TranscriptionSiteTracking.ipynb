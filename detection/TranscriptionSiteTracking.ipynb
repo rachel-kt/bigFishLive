{
 "cells": [
  {
   "cell_type": "markdown",
   "id": "707c6e40",
   "metadata": {},
   "source": [
    "# Load bigfish detection results\n"
   ]
  },
  {
   "cell_type": "code",
   "execution_count": 1,
   "id": "96ffd294",
   "metadata": {},
   "outputs": [],
   "source": [
    "import os\n",
    "import napari\n",
    "import numpy as np\n",
    "import pandas as pd\n",
    "import trackpy as tp\n",
    "import matplotlib.pyplot as plt\n",
    "\n",
    "import bigfish\n",
    "import bigfish.plot as plot\n",
    "import bigfish.stack as stack\n",
    "import bigfish.detection as detection\n",
    "import bigfish.multistack as multistack\n",
    "\n",
    "from copy import deepcopy\n",
    "from getTranscriptionSites import *\n",
    "from dask.array.image import imread as imr\n",
    "from bigfish.detection.utils import get_object_radius_pixel\n",
    "from buildReferenceSpot import buildReferenceSpotFromImages\n",
    "from runBigfishDetection import getSpotAndClusters, saveSpotsNPZ,reorderZstack\n",
    "pd.set_option('display.max_rows', 1500)"
   ]
  },
  {
   "cell_type": "markdown",
   "id": "61fcb277",
   "metadata": {},
   "source": [
    "## Specify Input and Output folders, identifiers"
   ]
  },
  {
   "cell_type": "code",
   "execution_count": 2,
   "id": "61799f43",
   "metadata": {},
   "outputs": [],
   "source": [
    "homeFolder = '../demoData/'\n",
    "nameKey = 'Hela_h9_h2_k11_mcpsg_1hrbasal_14hr_10ng.ml_tnf_exp1_4_F'\n",
    "\n",
    "imsQ = '11'\n",
    "cellNumber = '2'\n",
    "nucleiStackForm = nameKey+imsQ+\"_cell_\"\n",
    "\n",
    "pathToTimeSequenceFullView = homeFolder+nameKey+imsQ+'/*.tif'\n",
    "cell_Crop_Folder = homeFolder+nameKey+imsQ+'/cell_'+str(cellNumber)+'/'\n",
    "pathToTimeSequenceCell = homeFolder+nameKey+imsQ+'/cell_'+str(cellNumber)+'/*.tif'\n",
    "moviePath = homeFolder+nameKey+imsQ\n",
    "\n",
    "sequenceCell = imr(pathToTimeSequenceCell)\n",
    "mipSequenceCell = np.max(sequenceCell, axis=1)\n",
    "MaxTimePoint = sequenceCell.shape[0]"
   ]
  },
  {
   "cell_type": "markdown",
   "id": "fc0379d4",
   "metadata": {},
   "source": [
    "## Load detection and Clustering Results"
   ]
  },
  {
   "cell_type": "code",
   "execution_count": 4,
   "id": "55c58c64",
   "metadata": {},
   "outputs": [],
   "source": [
    "spcl = np.load(cell_Crop_Folder+str(cellNumber)+'_spots_and_clusters.npz',allow_pickle=True)\n",
    "\n",
    "spotsFrame = spcl['spotsFrame']\n",
    "clustersFrames = spcl['clustersFrames']\n",
    "ThresholdFrames = spcl['ThresholdFrames']\n",
    "reference_spot = spcl['reference_spot']\n",
    "refSpot = deepcopy(reference_spot)"
   ]
  },
  {
   "cell_type": "markdown",
   "id": "1110622e",
   "metadata": {},
   "source": [
    "## Get transcription sites using high confidence track information"
   ]
  },
  {
   "cell_type": "code",
   "execution_count": 5,
   "id": "42ef59a4",
   "metadata": {},
   "outputs": [],
   "source": [
    "particle_1 = pd.read_pickle(moviePath+'/cellNumber_'+str(cellNumber)+'_particle_1.pkl') \n",
    "particle_1.index = np.arange(0,len(particle_1))\n",
    "particle_1.track_length = len(particle_1)\n",
    "\n",
    "txs1 = getTranscrtiptionSites(mipSequenceCell, particle_1, MaxTimePoint, spotsFrame, clustersFrames, 0)\n",
    "\n",
    "particle_2 = pd.read_pickle(moviePath+'/cellNumber_'+str(cellNumber)+'_particle_2.pkl') \n",
    "particle_2.index = np.arange(0,len(particle_2))\n",
    "particle_2.track_length = len(particle_2)\n",
    "\n",
    "txs2 = getTranscrtiptionSites(mipSequenceCell, particle_2, MaxTimePoint, spotsFrame, clustersFrames, 1)"
   ]
  },
  {
   "cell_type": "code",
   "execution_count": 16,
   "id": "b997be32",
   "metadata": {},
   "outputs": [],
   "source": [
    "## Convert Tx information to napari visualisable format\n",
    "\n",
    "newClusterFrame = []\n",
    "for hh in range(len(txs1)):\n",
    "    if np.sum(txs1.iloc[hh,1:-1])==0:\n",
    "        newClusterFrame.append(np.array([], dtype=np.int64).reshape((0,5)))\n",
    "    else:\n",
    "        newClusterFrame.append(np.array(txs1.iloc[hh,1:]).reshape((1,5)).astype(np.int64))\n",
    "        \n",
    "for hh in range(len(txs2)):\n",
    "    if np.sum(txs2.iloc[hh,1:-1])==0:\n",
    "        newClusterFrame[hh] = np.vstack([newClusterFrame[hh],np.array([], dtype=np.int64).reshape((0,5))])\n",
    "    else:\n",
    "        newClusterFrame[hh] = np.vstack([newClusterFrame[hh], np.array(txs2.iloc[hh,1:]).reshape((1,5)).astype(np.int64)])\n"
   ]
  },
  {
   "cell_type": "markdown",
   "id": "1b837196",
   "metadata": {},
   "source": [
    "## Save transcription site track information "
   ]
  },
  {
   "cell_type": "code",
   "execution_count": 10,
   "id": "8c8810b0",
   "metadata": {},
   "outputs": [],
   "source": [
    "txs1.to_csv(moviePath+'/cellNumber_'+str(cellNumber)+'_particle_1_tracks.csv')\n",
    "txs2.to_csv(moviePath+'/cellNumber_'+str(cellNumber)+'_particle_2_tracks.csv')\n",
    "\n",
    "trackData = np.savez(moviePath+'/cellNumber_'+str(cellNumber)+'trackData',\n",
    "                    tx1 = txs1,\n",
    "                    tx2 = txs2,\n",
    "                    newClusterFrame = newClusterFrame,\n",
    "                    allow_pickle=True)"
   ]
  },
  {
   "cell_type": "code",
   "execution_count": null,
   "id": "efe339e5",
   "metadata": {},
   "outputs": [],
   "source": []
  },
  {
   "cell_type": "code",
   "execution_count": 11,
   "id": "aa268110",
   "metadata": {},
   "outputs": [],
   "source": [
    "def getDetectedPointsForFrame(pts_coordinates, frameNumer):\n",
    "    sd = np.shape(pts_coordinates[frameNumer][:])\n",
    "    pts_coords = np.empty([sd[0],sd[1]-1])\n",
    "    for ii in range(np.shape(pts_coordinates[frameNumer][:])[0]):\n",
    "        pts_coords[ii,:] = pts_coordinates[frameNumer][ii][1:]\n",
    "    return pts_coords\n",
    "\n",
    "def getDetectedClustersForFrame(pts_coordinates, frameNumer):\n",
    "    sd = np.shape(pts_coordinates[frameNumer][:])\n",
    "    pts_coords = np.empty([sd[0],sd[1]-3])\n",
    "    for ii in range(np.shape(pts_coordinates[frameNumer][:])[0]):\n",
    "        pts_coords[ii,:] = pts_coordinates[frameNumer][ii][1:3]\n",
    "    return pts_coords\n",
    "\n",
    "def set_pts_features(pts_layer, cls_layer, pts_coordinates, cluster_coordinate, step): #TxLayer\n",
    "    # step is a 4D coordinate with the current slider position for each dim\n",
    "    frameNumber = step[0]  # grab the leading (\"time\") coordinate\n",
    "    pts_layer.data = getDetectedPointsForFrame(pts_coordinates,frameNumber)\n",
    "    cls_layer.data = getDetectedClustersForFrame(cluster_coordinate,frameNumber)\n",
    "\n",
    "pts_coordinates = spotsFrame\n",
    "cluster_coordinate = newClusterFrame#clustersFrames\n",
    "viewer = napari.Viewer()\n",
    "image_layer = viewer.add_image(\n",
    "        mipSequenceCell, colormap='green' #maxImageCell\n",
    "        )\n",
    "if image_layer.data.ndim == 4:\n",
    "    bigfishSpots = spotsFrame\n",
    "elif image_layer.data.ndim == 3:\n",
    "    bigfishSpots = getDetectedPointsForFrame(pts_coordinates,int(np.shape(mipSequenceCell)[0]/2))\n",
    "    \n",
    "bigfish_Spots = viewer.add_points(\n",
    "        getDetectedPointsForFrame(pts_coordinates,int((np.shape(mipSequenceCell)[0]-1)/2)),\n",
    "        face_color='#00000000',\n",
    "        size=4,\n",
    "        edge_width=0.3,\n",
    "        edge_width_is_relative=False,\n",
    "        edge_color='white',\n",
    "        face_color_cycle = ['white'],\n",
    "        name = 'bigFish Detected Spots'\n",
    "        )\n",
    "\n",
    "bigfish_clusters = viewer.add_points(\n",
    "        getDetectedClustersForFrame(cluster_coordinate,int((np.shape(mipSequenceCell)[0]-1)/2)),\n",
    "        face_color='#00000000',\n",
    "        size=8,\n",
    "        edge_width=0.3,\n",
    "        edge_width_is_relative=False,\n",
    "        edge_color='red',\n",
    "        face_color_cycle = ['red'],\n",
    "        symbol='diamond',\n",
    "        name = 'bigFish Clusters'\n",
    "        )\n",
    "\n",
    "# bigfish_TxSite = viewer.add_labels(Tx_label_clean, name='Tx Site',opacity=0.3)  bigfish_TxSite\n",
    "\n",
    "viewer.dims.events.current_step.connect(\n",
    "        lambda event: set_pts_features(bigfish_Spots, bigfish_clusters, pts_coordinates, cluster_coordinate, event.value)\n",
    "        )"
   ]
  }
 ],
 "metadata": {
  "kernelspec": {
   "display_name": "Python 3 (ipykernel)",
   "language": "python",
   "name": "python3"
  },
  "language_info": {
   "codemirror_mode": {
    "name": "ipython",
    "version": 3
   },
   "file_extension": ".py",
   "mimetype": "text/x-python",
   "name": "python",
   "nbconvert_exporter": "python",
   "pygments_lexer": "ipython3",
   "version": "3.9.16"
  }
 },
 "nbformat": 4,
 "nbformat_minor": 5
}
