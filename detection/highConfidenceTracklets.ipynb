{
 "cells": [
  {
   "cell_type": "markdown",
   "id": "1843a4eb",
   "metadata": {},
   "source": [
    "## Load necessary python modules"
   ]
  },
  {
   "cell_type": "code",
   "execution_count": 1,
   "id": "fd2b94ce",
   "metadata": {},
   "outputs": [],
   "source": [
    "import os\n",
    "import napari\n",
    "import numpy as np\n",
    "import pandas as pd\n",
    "import trackpy as tp\n",
    "import matplotlib.pyplot as plt\n",
    "\n",
    "import bigfish\n",
    "import bigfish.plot as plot\n",
    "import bigfish.stack as stack\n",
    "import bigfish.detection as detection\n",
    "import bigfish.multistack as multistack\n",
    "\n",
    "from copy import deepcopy\n",
    "from get3DBlurredSequence import *\n",
    "from dask.array.image import imread as imr\n",
    "from bigfish.detection.utils import get_object_radius_pixel\n",
    "from buildReferenceSpot import buildReferenceSpotFromImages\n",
    "from runBigfishDetection import getSpotAndClusters, saveSpotsNPZ\n",
    "\n",
    "pd.set_option('display.max_rows', 1500)"
   ]
  },
  {
   "cell_type": "markdown",
   "id": "ee16a5d1",
   "metadata": {},
   "source": [
    "## Specify Input and Output folders, identifiers"
   ]
  },
  {
   "cell_type": "code",
   "execution_count": 2,
   "id": "0b16312f",
   "metadata": {},
   "outputs": [],
   "source": [
    "homeFolder = '../demoData/'\n",
    "nameKey = 'Hela_h9_h2_k11_mcpsg_1hrbasal_14hr_10ng.ml_tnf_exp1_4_F'\n",
    "\n",
    "imsQ = '11'\n",
    "cellNumber = '2'\n",
    "nucleiStackForm = nameKey+imsQ+\"_cell_\"\n",
    "\n",
    "pathToTimeSequenceFullView = homeFolder+nameKey+imsQ+'/*.tif'\n",
    "cell_Crop_Folder = homeFolder+nameKey+imsQ+'/cell_'+str(cellNumber)+'/'\n",
    "pathToTimeSequenceCell = homeFolder+nameKey+imsQ+'/cell_'+str(cellNumber)+'/*.tif'\n",
    "\n",
    "\n",
    "sequenceCell = imr(pathToTimeSequenceCell)\n",
    "mipSequenceCell = np.max(sequenceCell, axis=1)\n",
    "MaxTimePoint = sequenceCell.shape[0]"
   ]
  },
  {
   "cell_type": "markdown",
   "id": "12b2cbc8",
   "metadata": {},
   "source": [
    "## Load detection and Clustering Results"
   ]
  },
  {
   "cell_type": "code",
   "execution_count": 3,
   "id": "faa4f431",
   "metadata": {},
   "outputs": [],
   "source": [
    "\n",
    "spcl = np.load(cell_Crop_Folder+str(cellNumber)+'_spots_and_clusters.npz',allow_pickle=True)\n",
    "\n",
    "spotsFrame = spcl['spotsFrame']\n",
    "clustersFrames = spcl['clustersFrames']\n",
    "ThresholdFrames = spcl['ThresholdFrames']\n",
    "reference_spot = spcl['reference_spot']\n",
    "refSpot = deepcopy(reference_spot)"
   ]
  },
  {
   "cell_type": "markdown",
   "id": "bcb3206d",
   "metadata": {},
   "source": [
    "## Make 2D reference spot adjusted for use with computatutional 3D blurr of image sequence "
   ]
  },
  {
   "cell_type": "code",
   "execution_count": 4,
   "id": "fdb09584",
   "metadata": {},
   "outputs": [
    {
     "name": "stdout",
     "output_type": "stream",
     "text": [
      "1999.3500000000001\n"
     ]
    },
    {
     "data": {
      "image/png": "[encoded data removed]",
      "text/plain": [
       "<Figure size 300x300 with 1 Axes>"
      ]
     },
     "metadata": {},
     "output_type": "display_data"
    }
   ],
   "source": [
    "refSpot2D = np.max(reference_spot, axis=0)*0.45\n",
    "plt.figure(num=3,figsize=(3,3))\n",
    "plt.imshow(refSpot2D)\n",
    "print(np.max(refSpot2D))"
   ]
  },
  {
   "cell_type": "markdown",
   "id": "927398a4",
   "metadata": {},
   "source": [
    "## Obtain 3D blurred image sequence"
   ]
  },
  {
   "cell_type": "code",
   "execution_count": 5,
   "id": "69b85cf1",
   "metadata": {},
   "outputs": [],
   "source": [
    "blurImage = get3DBlurredSequence(sequenceCell, 9)\n",
    "\n",
    "viewer = napari.Viewer()\n",
    "image_layer = viewer.add_image(\n",
    "        blurImage, colormap='green'\n",
    "        )"
   ]
  },
  {
   "cell_type": "markdown",
   "id": "50991d89",
   "metadata": {},
   "source": [
    "## Perform detection on blurred image to get high confidence tracks"
   ]
  },
  {
   "cell_type": "code",
   "execution_count": 7,
   "id": "411cc5d1",
   "metadata": {
    "scrolled": true
   },
   "outputs": [
    {
     "name": "stdout",
     "output_type": "stream",
     "text": [
      "time=0\n",
      "time=1\n",
      "time=2\n",
      "time=3\n",
      "time=4\n",
      "time=5\n",
      "time=6\n",
      "time=7\n",
      "time=8\n",
      "time=9\n",
      "time=10\n",
      "time=11\n"
     ]
    }
   ],
   "source": [
    "bETA = 2.2\n",
    "gAMMA = 5\n",
    "thresholdManual = 1700\n",
    "clusterRadius = 400\n",
    "clusterSpotsMinimum = 5\n",
    "\n",
    "\n",
    "voxelRadius2D = (121, 121)\n",
    "objectRadius2D = (105, 105)\n",
    "xPos = np.array([])\n",
    "yPos = np.array([])\n",
    "blurClusters = []\n",
    "visualiseSpots = False\n",
    "\n",
    "for t in range(0,len(blurImage)):\n",
    "\n",
    "    rna = blurImage[t]\n",
    "\n",
    "    # spot radius\n",
    "    spot_radius_px = detection.get_object_radius_pixel(\n",
    "        voxel_size_nm=voxelRadius2D,#(600, 80, 80), \n",
    "        object_radius_nm=objectRadius2D, \n",
    "        ndim=2)\n",
    "\n",
    "    # LoG filter\n",
    "    rna_log = stack.log_filter(rna, sigma=spot_radius_px)\n",
    "\n",
    "    # local maximum detection\n",
    "    mask = detection.local_maximum_detection(rna_log, min_distance=spot_radius_px)\n",
    "\n",
    "    # thresholding\n",
    "    threshold = detection.automated_threshold_setting(rna_log, mask)\n",
    "\n",
    "    spots_current, _ = detection.spots_thresholding(rna_log, mask,thresholdManual)\n",
    "\n",
    "\n",
    "    # gaussian kernel\n",
    "    kernel_size = detection.get_object_radius_pixel(\n",
    "        voxel_size_nm=voxelRadius2D, \n",
    "        object_radius_nm=objectRadius2D, \n",
    "        ndim=2)\n",
    "    large_kernel_size = tuple([kernel_size_ * gAMMA for kernel_size_ in kernel_size])\n",
    "\n",
    "    # denoising\n",
    "    rna_denoised = stack.remove_background_gaussian(rna, sigma=large_kernel_size)\n",
    "\n",
    "    # reference spot\n",
    "    reference_spot = deepcopy(refSpot)\n",
    "\n",
    "    # fit a gaussian function on the reference spot\n",
    "    sigma_yx, amplitude, background = detection.modelize_spot(\n",
    "        reference_spot=refSpot2D, \n",
    "        voxel_size=voxelRadius2D, \n",
    "        spot_radius=objectRadius2D)\n",
    "\n",
    "    # detect dense regions\n",
    "    regions_to_decompose, spots_out_regions, region_size = detection.get_dense_region_live(\n",
    "        image=rna, \n",
    "        spots=spots_current,\n",
    "        voxel_size=voxelRadius2D,\n",
    "        spot_radius=objectRadius2D,\n",
    "        reference_spot=refSpot2D,\n",
    "        beta=bETA)\n",
    "\n",
    "    print('time='+str(t))\n",
    "    clusters = []\n",
    "    ndim=2\n",
    "    stack.check_array(\n",
    "        rna,\n",
    "        ndim=[2, 3],\n",
    "        dtype=[np.uint8, np.uint16, np.float32, np.float64])\n",
    "    # case where no region where detected\n",
    "    if regions_to_decompose.size == 0:\n",
    "        dense_regions = np.array([], dtype=rna.dtype).reshape((0, ndim + 4))\n",
    "        blurClusters.append(np.array([],dtype=np.int64).reshape((0, 2)))\n",
    "    #    return spots, dense_regions, reference_spot\n",
    "    else :\n",
    "        # precompute gaussian function values\n",
    "        max_grid = max(200, region_size + 1)\n",
    "        precomputed_gaussian = detection.precompute_erf(\n",
    "            ndim=2,\n",
    "            voxel_size=voxelRadius2D,\n",
    "            sigma=(sigma_yx, sigma_yx),\n",
    "            max_grid=max_grid)\n",
    "\n",
    "        # simulate gaussian mixtures\n",
    "        spots_in_regions, _ = detection.simulate_gaussian_mixture(\n",
    "            image=rna,\n",
    "            candidate_regions=regions_to_decompose,\n",
    "            voxel_size=voxelRadius2D,\n",
    "            sigma=(sigma_yx, sigma_yx),\n",
    "            amplitude=amplitude,\n",
    "            background=background,\n",
    "            precomputed_gaussian=precomputed_gaussian)\n",
    "\n",
    "        spots_post_decomposition = np.concatenate((spots_out_regions, spots_in_regions[:, :2]), axis=0)\n",
    "\n",
    "        if visualiseSpots==True:        \n",
    "            plot.plot_detection(rna, \n",
    "                                    spots=[spots_current, spots_in_regions[:, :2]], \n",
    "                                    shape=[\"circle\", \"polygon\"], \n",
    "                                    radius=[3, 6], \n",
    "                                    color=[\"red\", \"yellow\"],\n",
    "                                    linewidth=[1, 2], \n",
    "                                    fill=[False, False], \n",
    "                                    contrast=True)\n",
    "\n",
    "        spots_post_clustering, clusters = detection.detect_clusters(\n",
    "            spots=spots_post_decomposition, \n",
    "            voxel_size=voxelRadius2D, \n",
    "            radius=clusterRadius, \n",
    "            nb_min_spots=clusterSpotsMinimum)\n",
    "\n",
    "        xPos = np.hstack([xPos,clusters[:,0]])\n",
    "        yPos = np.hstack([yPos,clusters[:,1]])\n",
    "\n",
    "        blurClusters.append(clusters[:,0:2])\n",
    "        if visualiseSpots==True:\n",
    "            plot.plot_detection(rna, \n",
    "                                spots=[spots_current, clusters[:,:2]], \n",
    "                                shape=[\"circle\", \"polygon\"], \n",
    "                                radius=[3, 6], \n",
    "                                color=[\"red\", \"blue\"],\n",
    "                                linewidth=[1, 2], \n",
    "                                fill=[False, False], \n",
    "                                contrast=True)\n"
   ]
  },
  {
   "cell_type": "markdown",
   "id": "62bd5d5d",
   "metadata": {},
   "source": [
    "## Visualise detection results"
   ]
  },
  {
   "cell_type": "code",
   "execution_count": 8,
   "id": "af0de459",
   "metadata": {},
   "outputs": [
    {
     "data": {
      "text/plain": [
       "<function __main__.<lambda>(event)>"
      ]
     },
     "execution_count": 8,
     "metadata": {},
     "output_type": "execute_result"
    }
   ],
   "source": [
    "def getDetectedClustersForFrameBlur(pts_coordinates, frameNumer):\n",
    "    sd = np.shape(pts_coordinates[frameNumer][:])\n",
    "    pts_coords = np.empty([sd[0],sd[1]])\n",
    "    for ii in range(np.shape(pts_coordinates[frameNumer][:])[0]):\n",
    "        pts_coords[ii,:] = pts_coordinates[frameNumer][ii][:]\n",
    "    return pts_coords\n",
    "\n",
    "def set_pts_features(cls_layer, cluster_coordinate, step): #TxLayer\n",
    "    # step is a 4D coordinate with the current slider position for each dim\n",
    "    frameNumber = step[0]  # grab the leading (\"time\") coordinate\n",
    "    cls_layer.data = getDetectedClustersForFrameBlur(cluster_coordinate,frameNumber)\n",
    "\n",
    "\n",
    "cluster_coordinate_blur = blurClusters\n",
    "viewer = napari.Viewer()\n",
    "image_layer = viewer.add_image(\n",
    "        blurImage, colormap='green' #maxImageCell\n",
    "        )\n",
    "\n",
    "bigfish_clusters_blur = viewer.add_points(\n",
    "        getDetectedClustersForFrameBlur(cluster_coordinate_blur,int(np.shape(blurImage)[0]/2)),\n",
    "        face_color='#00000000',\n",
    "        size=8,\n",
    "        edge_width=0.3,\n",
    "        edge_width_is_relative=False,\n",
    "        edge_color='red',\n",
    "        face_color_cycle = ['red'],\n",
    "        symbol='diamond',\n",
    "        name = 'bigFish Clusters'\n",
    "        )\n",
    "\n",
    "viewer.dims.events.current_step.connect(\n",
    "        lambda event: set_pts_features(bigfish_clusters_blur, cluster_coordinate_blur, event.value)\n",
    "        )"
   ]
  },
  {
   "cell_type": "markdown",
   "id": "aa375bd6",
   "metadata": {},
   "source": [
    "## Linking of trajectories"
   ]
  },
  {
   "cell_type": "code",
   "execution_count": 17,
   "id": "bb8c6891",
   "metadata": {},
   "outputs": [
    {
     "name": "stdout",
     "output_type": "stream",
     "text": [
      "Frame 12: 1 trajectories present.\n"
     ]
    },
    {
     "data": {
      "text/html": [
       "<div>\n",
       "<style scoped>\n",
       "    .dataframe tbody tr th:only-of-type {\n",
       "        vertical-align: middle;\n",
       "    }\n",
       "\n",
       "    .dataframe tbody tr th {\n",
       "        vertical-align: top;\n",
       "    }\n",
       "\n",
       "    .dataframe thead th {\n",
       "        text-align: right;\n",
       "    }\n",
       "</style>\n",
       "<table border=\"1\" class=\"dataframe\">\n",
       "  <thead>\n",
       "    <tr style=\"text-align: right;\">\n",
       "      <th></th>\n",
       "      <th>y</th>\n",
       "      <th>x</th>\n",
       "      <th>frame</th>\n",
       "      <th>particle</th>\n",
       "      <th>track_length</th>\n",
       "    </tr>\n",
       "  </thead>\n",
       "  <tbody>\n",
       "    <tr>\n",
       "      <th>0</th>\n",
       "      <td>96</td>\n",
       "      <td>119</td>\n",
       "      <td>1</td>\n",
       "      <td>0</td>\n",
       "      <td>3</td>\n",
       "    </tr>\n",
       "    <tr>\n",
       "      <th>1</th>\n",
       "      <td>117</td>\n",
       "      <td>105</td>\n",
       "      <td>1</td>\n",
       "      <td>1</td>\n",
       "      <td>12</td>\n",
       "    </tr>\n",
       "    <tr>\n",
       "      <th>2</th>\n",
       "      <td>96</td>\n",
       "      <td>119</td>\n",
       "      <td>2</td>\n",
       "      <td>0</td>\n",
       "      <td>3</td>\n",
       "    </tr>\n",
       "    <tr>\n",
       "      <th>3</th>\n",
       "      <td>117</td>\n",
       "      <td>105</td>\n",
       "      <td>2</td>\n",
       "      <td>1</td>\n",
       "      <td>12</td>\n",
       "    </tr>\n",
       "    <tr>\n",
       "      <th>4</th>\n",
       "      <td>96</td>\n",
       "      <td>119</td>\n",
       "      <td>3</td>\n",
       "      <td>0</td>\n",
       "      <td>3</td>\n",
       "    </tr>\n",
       "    <tr>\n",
       "      <th>5</th>\n",
       "      <td>117</td>\n",
       "      <td>105</td>\n",
       "      <td>3</td>\n",
       "      <td>1</td>\n",
       "      <td>12</td>\n",
       "    </tr>\n",
       "    <tr>\n",
       "      <th>6</th>\n",
       "      <td>116</td>\n",
       "      <td>105</td>\n",
       "      <td>4</td>\n",
       "      <td>1</td>\n",
       "      <td>12</td>\n",
       "    </tr>\n",
       "    <tr>\n",
       "      <th>7</th>\n",
       "      <td>116</td>\n",
       "      <td>104</td>\n",
       "      <td>5</td>\n",
       "      <td>1</td>\n",
       "      <td>12</td>\n",
       "    </tr>\n",
       "    <tr>\n",
       "      <th>8</th>\n",
       "      <td>117</td>\n",
       "      <td>104</td>\n",
       "      <td>6</td>\n",
       "      <td>1</td>\n",
       "      <td>12</td>\n",
       "    </tr>\n",
       "    <tr>\n",
       "      <th>9</th>\n",
       "      <td>116</td>\n",
       "      <td>105</td>\n",
       "      <td>7</td>\n",
       "      <td>1</td>\n",
       "      <td>12</td>\n",
       "    </tr>\n",
       "    <tr>\n",
       "      <th>10</th>\n",
       "      <td>116</td>\n",
       "      <td>105</td>\n",
       "      <td>8</td>\n",
       "      <td>1</td>\n",
       "      <td>12</td>\n",
       "    </tr>\n",
       "    <tr>\n",
       "      <th>11</th>\n",
       "      <td>116</td>\n",
       "      <td>105</td>\n",
       "      <td>9</td>\n",
       "      <td>1</td>\n",
       "      <td>12</td>\n",
       "    </tr>\n",
       "    <tr>\n",
       "      <th>12</th>\n",
       "      <td>116</td>\n",
       "      <td>105</td>\n",
       "      <td>10</td>\n",
       "      <td>1</td>\n",
       "      <td>12</td>\n",
       "    </tr>\n",
       "    <tr>\n",
       "      <th>13</th>\n",
       "      <td>116</td>\n",
       "      <td>105</td>\n",
       "      <td>11</td>\n",
       "      <td>1</td>\n",
       "      <td>12</td>\n",
       "    </tr>\n",
       "    <tr>\n",
       "      <th>14</th>\n",
       "      <td>116</td>\n",
       "      <td>105</td>\n",
       "      <td>12</td>\n",
       "      <td>1</td>\n",
       "      <td>12</td>\n",
       "    </tr>\n",
       "  </tbody>\n",
       "</table>\n",
       "</div>"
      ],
      "text/plain": [
       "      y    x  frame  particle  track_length\n",
       "0    96  119      1         0             3\n",
       "1   117  105      1         1            12\n",
       "2    96  119      2         0             3\n",
       "3   117  105      2         1            12\n",
       "4    96  119      3         0             3\n",
       "5   117  105      3         1            12\n",
       "6   116  105      4         1            12\n",
       "7   116  104      5         1            12\n",
       "8   117  104      6         1            12\n",
       "9   116  105      7         1            12\n",
       "10  116  105      8         1            12\n",
       "11  116  105      9         1            12\n",
       "12  116  105     10         1            12\n",
       "13  116  105     11         1            12\n",
       "14  116  105     12         1            12"
      ]
     },
     "execution_count": 17,
     "metadata": {},
     "output_type": "execute_result"
    }
   ],
   "source": [
    "MaxTimePoint = len(blurImage)\n",
    "clustersFrames = cluster_coordinate_blur\n",
    "features = pd.DataFrame(clustersFrames[0][:,0:],columns=['y','x'])\n",
    "features['frame']=1\n",
    "for ll in range(1,MaxTimePoint):\n",
    "    new_row = pd.DataFrame(clustersFrames[ll][:,0:],columns=['y','x'])\n",
    "    new_row['frame']=ll+1\n",
    "    features = pd.concat([features,new_row], ignore_index=True)\n",
    "linkedTrajectories = tp.link(features, 8, memory=200) #15 first\n",
    "\n",
    "linkedTrajectories['track_length']=0\n",
    "trajectoryLengths = linkedTrajectories['particle'].value_counts()\n",
    "i=0\n",
    "for jj in trajectoryLengths.index:\n",
    "    linkedTrajectories.loc[linkedTrajectories['particle']==jj,'track_length']=trajectoryLengths.values[i]\n",
    "    i+=1\n",
    "linkedTrajectories"
   ]
  },
  {
   "cell_type": "markdown",
   "id": "c8773b07",
   "metadata": {},
   "source": [
    "## Make track data for Napari visualisation"
   ]
  },
  {
   "cell_type": "code",
   "execution_count": 18,
   "id": "9d8b0119",
   "metadata": {},
   "outputs": [],
   "source": [
    "dft = pd.concat([linkedTrajectories.iloc[:,3:4], # particle\n",
    "                    linkedTrajectories.iloc[:,2:3]-1, # frame\n",
    "                    linkedTrajectories.iloc[:,0:2]], axis=1) # coord\n",
    "dft.columns = ['track_id','t','y','x']\n",
    "dd=dft.sort_values(by=['track_id', 't'])\n",
    "tracks_data = np.asarray(dd)"
   ]
  },
  {
   "cell_type": "code",
   "execution_count": 20,
   "id": "6188d8f4",
   "metadata": {},
   "outputs": [
    {
     "data": {
      "text/plain": [
       "<function __main__.<lambda>(event)>"
      ]
     },
     "execution_count": 20,
     "metadata": {},
     "output_type": "execute_result"
    }
   ],
   "source": [
    "def getDetectedClustersForFrameBlur(pts_coordinates, frameNumer):\n",
    "    sd = np.shape(pts_coordinates[frameNumer][:])\n",
    "    pts_coords = np.empty([sd[0],sd[1]])\n",
    "    for ii in range(np.shape(pts_coordinates[frameNumer][:])[0]):\n",
    "        pts_coords[ii,:] = pts_coordinates[frameNumer][ii][:]\n",
    "    return pts_coords\n",
    "\n",
    "def set_pts_features(tracks_layers, cls_layer, cluster_coordinate, step):\n",
    "    # step is a 4D coordinate with the current slider position for each dim\n",
    "    frameNumber = step[0]  # grab the leading (\"time\") coordinate\n",
    "    cls_layer.data = getDetectedClustersForFrameBlur(cluster_coordinate,frameNumber)\n",
    "\n",
    "cluster_coordinate_blur = blurClusters\n",
    "viewer = napari.Viewer()\n",
    "image_layer = viewer.add_image(\n",
    "        np.array(blurImage).astype(np.uint16), colormap='green' #maxImageCell\n",
    "        )\n",
    "\n",
    "bigfish_clusters_blur = viewer.add_points(\n",
    "        getDetectedClustersForFrameBlur(cluster_coordinate_blur,int(np.shape(blurImage)[0]/2)),\n",
    "        face_color='#00000000',\n",
    "        size=8,\n",
    "        edge_width=0.3,\n",
    "        edge_width_is_relative=False,\n",
    "        edge_color='red',\n",
    "        face_color_cycle = ['red'],\n",
    "        symbol='diamond',\n",
    "        name = 'bigFish Clusters'\n",
    "        )\n",
    "\n",
    "\n",
    "bigfish_tracks = viewer.add_tracks(tracks_data, \n",
    "                                   name='TS tracks')\n",
    "\n",
    "viewer.dims.events.current_step.connect(\n",
    "        lambda event: set_pts_features(bigfish_tracks, bigfish_clusters_blur, cluster_coordinate_blur, event.value)\n",
    "        )"
   ]
  },
  {
   "cell_type": "markdown",
   "id": "9b718b7f",
   "metadata": {},
   "source": [
    "## Merge particle trajectories if needed"
   ]
  },
  {
   "cell_type": "code",
   "execution_count": 40,
   "id": "d45de6cd",
   "metadata": {},
   "outputs": [],
   "source": [
    "# idx = np.where(linkedTrajectories['particle']==1)[0]\n",
    "\n",
    "# idx = np.where(linkedTrajectories['particle']==3)[0]\n",
    "\n",
    "# linkedTrajectories.iloc[idx,3]=4"
   ]
  },
  {
   "cell_type": "code",
   "execution_count": 41,
   "id": "470de3e5",
   "metadata": {},
   "outputs": [],
   "source": [
    "dft = pd.concat([linkedTrajectories.iloc[:,3:4], # particle\n",
    "                    linkedTrajectories.iloc[:,2:3]-1, # frame\n",
    "                    linkedTrajectories.iloc[:,0:2]], axis=1) # coord\n",
    "dft.columns = ['track_id','t','y','x']\n",
    "dd=dft.sort_values(by=['track_id', 't'])\n",
    "tracks_data = np.asarray(dd)"
   ]
  },
  {
   "cell_type": "code",
   "execution_count": 42,
   "id": "901b3347",
   "metadata": {},
   "outputs": [
    {
     "data": {
      "text/plain": [
       "<function __main__.<lambda>(event)>"
      ]
     },
     "execution_count": 42,
     "metadata": {},
     "output_type": "execute_result"
    }
   ],
   "source": [
    "def getDetectedClustersForFrameBlur(pts_coordinates, frameNumer):\n",
    "    sd = np.shape(pts_coordinates[frameNumer][:])\n",
    "    pts_coords = np.empty([sd[0],sd[1]])\n",
    "    for ii in range(np.shape(pts_coordinates[frameNumer][:])[0]):\n",
    "        pts_coords[ii,:] = pts_coordinates[frameNumer][ii][:]\n",
    "    return pts_coords\n",
    "\n",
    "def set_pts_features(tracks_layers, cls_layer, cluster_coordinate, step):\n",
    "    # step is a 4D coordinate with the current slider position for each dim\n",
    "    frameNumber = step[0]  # grab the leading (\"time\") coordinate\n",
    "#     pts_layer.data = getDetectedPointsForFrame(pts_coordinates,frameNumber)\n",
    "    cls_layer.data = getDetectedClustersForFrameBlur(cluster_coordinate,frameNumber)\n",
    "# pts_coordinates = spotsFrame\n",
    "# cluster_coordinate = deepcopy(newClusterCoordinate)\n",
    "cluster_coordinate_blur = blurClusters\n",
    "viewer = napari.Viewer()\n",
    "image_layer = viewer.add_image(\n",
    "        np.array(blurImage).astype(np.uint16), colormap='green' #maxImageCell\n",
    "        )\n",
    "\n",
    "bigfish_clusters_blur = viewer.add_points(\n",
    "        getDetectedClustersForFrameBlur(cluster_coordinate_blur,int(np.shape(blurImage)[0]/2)),\n",
    "        face_color='#00000000',\n",
    "        size=8,\n",
    "        edge_width=0.3,\n",
    "        edge_width_is_relative=False,\n",
    "        edge_color='red',\n",
    "        face_color_cycle = ['red'],\n",
    "        symbol='diamond',\n",
    "        name = 'bigFish Clusters'\n",
    "        )\n",
    "\n",
    "\n",
    "bigfish_tracks = viewer.add_tracks(tracks_data, \n",
    "                                   name='TS tracks')\n",
    "\n",
    "viewer.dims.events.current_step.connect(\n",
    "        lambda event: set_pts_features(bigfish_tracks, bigfish_clusters_blur, cluster_coordinate_blur, event.value)\n",
    "        )"
   ]
  },
  {
   "cell_type": "markdown",
   "id": "881be392",
   "metadata": {},
   "source": [
    "## Save high confidence track data"
   ]
  },
  {
   "cell_type": "code",
   "execution_count": 44,
   "id": "a5950753",
   "metadata": {},
   "outputs": [],
   "source": [
    "moviePath = homeFolder+nameKey+imsQ\n",
    "\n",
    "particle_1 = linkedTrajectories[linkedTrajectories['particle']==0]\n",
    "particle_2 = linkedTrajectories[linkedTrajectories['particle']==1]\n",
    "\n",
    "particle_2.to_pickle(moviePath+'/cellNumber_'+str(cellNumber)+'_particle_2.pkl')\n",
    "particle_1.to_pickle(moviePath+'/cellNumber_'+str(cellNumber)+'_particle_1.pkl')"
   ]
  }
 ],
 "metadata": {
  "kernelspec": {
   "display_name": "Python 3 (ipykernel)",
   "language": "python",
   "name": "python3"
  },
  "language_info": {
   "codemirror_mode": {
    "name": "ipython",
    "version": 3
   },
   "file_extension": ".py",
   "mimetype": "text/x-python",
   "name": "python",
   "nbconvert_exporter": "python",
   "pygments_lexer": "ipython3",
   "version": "3.9.16"
  }
 },
 "nbformat": 4,
 "nbformat_minor": 5
}
