{
 "cells": [
  {
   "cell_type": "code",
   "execution_count": 1,
   "id": "e889eba5",
   "metadata": {},
   "outputs": [],
   "source": [
    "#from getFramesFromMovie import getFramesFromMovies\n",
    "import os\n",
    "import matplotlib.pyplot as plt\n",
    "import numpy as np\n",
    "import tifffile\n",
    "from imaris_ims_file_reader.ims import ims"
   ]
  },
  {
   "cell_type": "code",
   "execution_count": 3,
   "id": "3b2fcf72",
   "metadata": {},
   "outputs": [],
   "source": [
    "def getFramesFromMoviesIMS(imagePath, startTime=0, stopTime=25, numberOfZFrames=13, getMaxProjection=False, outpath='./', extension='.tif'):\n",
    "    moviePathName = os.path.join('/', '/'.join(imagePath.split('/')[:-1]))\n",
    "    movieFileName = imagePath.split('/')[-1].split('.ims')[0]\n",
    "    imsData = ims(imagePath)\n",
    "    for timePoint in range(startTime,stopTime):\n",
    "        \n",
    "        tFrame = imsData[timePoint,:,:,:,:]\n",
    "        tFrameShape = tFrame.shape\n",
    "\n",
    "        if getMaxProjection:\n",
    "            pathToSaveFrames = os.path.join(outpath, 'MAX_'+movieFileName)\n",
    "            with tifffile.TiffWriter(pathToSaveFrames+str(f\"_t{timePoint:03}\")+extension, imagej=True) as tif:\n",
    "                maxImage = np.max(tFrames, axis=0).astype('uint16')\n",
    "                tif.save(maxImage)\n",
    "\n",
    "        tFrame = tFrame.reshape(1,1,tFrameShape[0],tFrameShape[1],tFrameShape[2]).astype('uint16')\n",
    "\n",
    "        pathToSaveFrames = os.path.join(outpath, movieFileName)\n",
    "        with tifffile.TiffWriter(pathToSaveFrames+str(f\"_t{timePoint:03}\")+extension, imagej=True) as tif:\n",
    "            tif.save(tFrame)\n",
    "                "
   ]
  },
  {
   "cell_type": "code",
   "execution_count": 4,
   "id": "c7ae22d7",
   "metadata": {},
   "outputs": [
    {
     "name": "stdout",
     "output_type": "stream",
     "text": [
      "Opening readonly file: /media/rachel/Hussein EBL/20230720/Hela_h9_h2_k11_mcpsg_1hrbasal_14hr_10ng.ml_tnf_exp1_4_F11.ims \n",
      "\n"
     ]
    },
    {
     "name": "stderr",
     "output_type": "stream",
     "text": [
      "/tmp/ipykernel_12303/722994038.py:20: DeprecationWarning: <tifffile.TiffWriter.save> is deprecated. Use TiffWriter.write\n",
      "  tif.save(tFrame)\n"
     ]
    },
    {
     "name": "stdout",
     "output_type": "stream",
     "text": [
      "Closing file: /media/rachel/Hussein EBL/20230720/Hela_h9_h2_k11_mcpsg_1hrbasal_14hr_10ng.ml_tnf_exp1_4_F11.ims \n",
      "\n"
     ]
    }
   ],
   "source": [
    "imagePath='/media/rachel/Hussein EBL/20230720/Hela_h9_h2_k11_mcpsg_1hrbasal_14hr_10ng.ml_tnf_exp1_4_F11.ims'\n",
    "outfolder='/home/rachel/Desktop/'#'/media/rachel/9d56c1ff-e031-4e35-9f3c-fcd7d3e80033/Analysis/20230720/Hela_h9_h2_k11_mcpsg_1hrbasal_14hr_10ng.ml_tnf_exp1_4_F11/'\n",
    "try:\n",
    "   os.makedirs(outfolder)\n",
    "except FileExistsError:\n",
    "   # directory already exists\n",
    "   pass\n",
    "\n",
    "getFramesFromMoviesIMS(imagePath, startTime=720,stopTime=724,numberOfZFrames=13, getMaxProjection=False, outpath=outfolder, extension='.tif')"
   ]
  },
  {
   "cell_type": "code",
   "execution_count": null,
   "id": "f963c7dd",
   "metadata": {
    "scrolled": true
   },
   "outputs": [],
   "source": [
    "a[0,0,5,:,:]"
   ]
  }
 ],
 "metadata": {
  "kernelspec": {
   "display_name": "Python 3 (ipykernel)",
   "language": "python",
   "name": "python3"
  },
  "language_info": {
   "codemirror_mode": {
    "name": "ipython",
    "version": 3
   },
   "file_extension": ".py",
   "mimetype": "text/x-python",
   "name": "python",
   "nbconvert_exporter": "python",
   "pygments_lexer": "ipython3",
   "version": "3.8.16"
  }
 },
 "nbformat": 4,
 "nbformat_minor": 5
}
